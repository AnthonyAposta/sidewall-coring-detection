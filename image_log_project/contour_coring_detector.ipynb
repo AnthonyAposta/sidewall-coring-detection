{
 "cells": [
  {
   "cell_type": "code",
   "execution_count": 1,
   "metadata": {},
   "outputs": [],
   "source": [
    "import cv2\n",
    "import matplotlib.pyplot as plt\n",
    "from glob import glob\n",
    "import numpy as np\n",
    "from math import ceil\n",
    "from skimage import feature"
   ]
  },
  {
   "cell_type": "code",
   "execution_count": null,
   "metadata": {},
   "outputs": [],
   "source": [
    "class CoringDetector:\n",
    "    def apply_transforms(\n",
    "        self,\n",
    "        images: np.array,\n",
    "        canny_sigma: float = 2.7,\n",
    "        N1: int = 19,\n",
    "        N2: int = 9,\n",
    "        N3: int = 5,\n",
    "    ):\n",
    "        # Calcular bosdas com canny\n",
    "        images = [feature.canny(img, sigma=canny_sigma) * 255.0 for img in images]\n",
    "\n",
    "        # Fechar bordas encontradas com fechamento (para criar blobs)\n",
    "        kernel1 = np.ones((N1, N1), np.uint8)\n",
    "        images = [cv2.morphologyEx(img, cv2.MORPH_CLOSE, kernel1) for img in images]\n",
    "\n",
    "        # Aplicando abertura com kernel vertical para remover ruidos horizontais\n",
    "        kernel2 = np.ones((N2, 1), np.uint8)\n",
    "        images = [cv2.morphologyEx(img, cv2.MORPH_OPEN, kernel2) for img in images]\n",
    "\n",
    "        # Aplicando dilatação para juntar ruidos proximos em grandes regiões, pode facilitar\n",
    "        # na filtragem por área, mas talvez não seja necessario.\n",
    "        kernel3 = np.ones((N3, N3), np.uint8)\n",
    "        images = [cv2.morphologyEx(img, cv2.MORPH_DILATE, kernel3) for img in images]\n",
    "\n",
    "\n",
    "    def find_contours(self, images: list):\n",
    "\n",
    "        converted_images = []\n",
    "        for image in np.array(images):\n",
    "            # Ensure that the image is in uint8 format (CV_8U)\n",
    "            if image.max() == 1:\n",
    "                image *= 255\n",
    "            if image.dtype != np.uint8:\n",
    "                image = image.astype(np.uint8)\n",
    "            # Convert to CV_8UC1 format\n",
    "            if len(image.shape) > 2:\n",
    "                image = cv2.cvtColor(image, cv2.COLOR_BGR2GRAY)\n",
    "            converted_images.append(image)\n",
    "        \n",
    "        contours = [ contourn ]\n",
    "        for img in converted_images:\n",
    "\n",
    "            contours_list,_ = cv2.findContours(img, cv2.CHAIN_APPROX_SIMPLE, cv2.CHAIN_APPROX_NONE)\n",
    "            contours.append(contours_list)\n",
    "\n",
    "    def apply_thresholds(self, contours: np.array):\n",
    "        ..."
   ]
  }
 ],
 "metadata": {
  "kernelspec": {
   "display_name": "image-log-project-dMw6_pq3-py3.11",
   "language": "python",
   "name": "python3"
  },
  "language_info": {
   "codemirror_mode": {
    "name": "ipython",
    "version": 3
   },
   "file_extension": ".py",
   "mimetype": "text/x-python",
   "name": "python",
   "nbconvert_exporter": "python",
   "pygments_lexer": "ipython3",
   "version": "3.10.12"
  }
 },
 "nbformat": 4,
 "nbformat_minor": 2
}
