{
 "cells": [
  {
   "cell_type": "code",
   "execution_count": 1,
   "metadata": {},
   "outputs": [],
   "source": [
    "import cv2\n",
    "import matplotlib.pyplot as plt\n",
    "import numpy as np\n",
    "from tqdm import tqdm\n",
    "from glob import glob\n",
    "from math import ceil\n",
    "from skimage import feature\n",
    "from sklearn.model_selection import GridSearchCV\n",
    "from sklearn.metrics import jaccard_score\n",
    "\n",
    "from coring_detector import CoringDetector\n",
    "from utils import plot_images\n"
   ]
  },
  {
   "cell_type": "markdown",
   "metadata": {},
   "source": [
    "### Get Training images"
   ]
  },
  {
   "cell_type": "code",
   "execution_count": 2,
   "metadata": {},
   "outputs": [],
   "source": [
    "N_images = 50000"
   ]
  },
  {
   "cell_type": "code",
   "execution_count": 3,
   "metadata": {},
   "outputs": [
    {
     "name": "stdout",
     "output_type": "stream",
     "text": [
      "(1438, 256, 256)\n"
     ]
    }
   ],
   "source": [
    "imgs_dir = '../data/train/image/*'\n",
    "imgs_paths = glob(imgs_dir)\n",
    "imgs_paths = sorted(imgs_paths)\n",
    "imgs_paths = imgs_paths[:N_images]\n",
    "\n",
    "train_dataset = [ cv2.imread(image_path, cv2.IMREAD_GRAYSCALE) for image_path in imgs_paths]\n",
    "\n",
    "# Padding images to 256x256\n",
    "\n",
    "# Find the maximum shape among all arrays\n",
    "max_shape = max(arr.shape for arr in train_dataset)\n",
    "\n",
    "# Pad or resize each array to the maximum shape\n",
    "padded_arrays = [np.pad(arr, [(0, max_shape[0] - arr.shape[0]), (0, max_shape[1] - arr.shape[1])], mode='constant', constant_values=int(np.mean(arr))) for arr in train_dataset]\n",
    "\n",
    "# Convert the list of arrays to a single NumPy array\n",
    "train_dataset = np.array(padded_arrays)\n",
    "\n",
    "# Check the shape of the resulting array\n",
    "print(train_dataset.shape)"
   ]
  },
  {
   "cell_type": "markdown",
   "metadata": {},
   "source": [
    "### Get masks"
   ]
  },
  {
   "cell_type": "code",
   "execution_count": 4,
   "metadata": {},
   "outputs": [
    {
     "name": "stdout",
     "output_type": "stream",
     "text": [
      "(1438, 256, 256)\n"
     ]
    }
   ],
   "source": [
    "masks_dir = '../data/train/mask/*'\n",
    "masks_paths = glob(masks_dir)\n",
    "masks_paths = sorted(masks_paths)\n",
    "masks_paths = masks_paths[:N_images]\n",
    "\n",
    "# Create list with all images in gray scale\n",
    "masks_gray = [ cv2.imread(mask_path, cv2.IMREAD_GRAYSCALE) for mask_path in masks_paths]\n",
    "\n",
    "# Padding masks to 256x256 \n",
    "\n",
    "# Find the maximum shape among all arrays\n",
    "max_shape = max(arr.shape for arr in masks_gray)\n",
    "\n",
    "# Pad or resize each array to the maximum shape\n",
    "padded_arrays = [np.pad(arr, [(0, max_shape[0] - arr.shape[0]), (0, max_shape[1] - arr.shape[1])], mode='constant') for arr in masks_gray]\n",
    "\n",
    "# Convert the list of arrays to a single NumPy array\n",
    "train_masks = np.array(padded_arrays)\n",
    "\n",
    "# Get the true centroids for the maks\n",
    "masks_contours = CoringDetector.find_contours(train_masks)\n",
    "masks_centroids = CoringDetector.get_centroids(masks_contours)\n",
    "\n",
    "# plot_images(train_masks, masks_contours, masks_centroids)\n",
    "\n",
    "# Check the shape of the resulting array\n",
    "print(train_masks.shape)"
   ]
  },
  {
   "cell_type": "markdown",
   "metadata": {},
   "source": [
    "### Create parameters sets"
   ]
  },
  {
   "cell_type": "code",
   "execution_count": 5,
   "metadata": {},
   "outputs": [
    {
     "name": "stdout",
     "output_type": "stream",
     "text": [
      "A total of 8 parameters set were created.\n"
     ]
    }
   ],
   "source": [
    "# Define the parameter ranges and steps\n",
    "min_area_range = np.arange(1, 10, 5.)  # from 10 to 50, steps of 10\n",
    "max_area_range = np.arange(400, 450, 50)  # from 250 to 450, steps of 50\n",
    "min_round_ratio_range = np.arange(0.1, 0.2, 0.1)  # from 0.25 to 0.75, steps of 0.125\n",
    "max_round_ratio_range = np.arange(0.5, 1.5, 0.5)  # from 1.0 to 3.0, steps of 0.5\n",
    "\n",
    "canny_sigma_range = np.arange(1, 5, 0.5)\n",
    "N1_range = np.arange(11, 32, step=2)\n",
    "N2_fixed = [9]\n",
    "N3_fixed = [5]\n",
    "\n",
    "# Construct the param_grid\n",
    "param_grid =  {\n",
    "    \"min_area\": min_area_range,\n",
    "    \"max_area\": max_area_range,\n",
    "    \"min_round_ratio\": min_round_ratio_range,\n",
    "    \"max_round_ratio\": max_round_ratio_range,\n",
    "    \"canny_sigma\": canny_sigma_range,\n",
    "    \"N1\": N1_range,\n",
    "    \"N2\": N2_fixed,\n",
    "    \"N3\": N3_fixed,\n",
    "}\n",
    "\n",
    "print(f\"A total of {len(param_grid)} parameters set were created.\")\n"
   ]
  },
  {
   "cell_type": "code",
   "execution_count": 6,
   "metadata": {},
   "outputs": [
    {
     "name": "stdout",
     "output_type": "stream",
     "text": [
      "Fitting 5 folds for each of 352 candidates, totalling 1760 fits\n"
     ]
    }
   ],
   "source": [
    "clf = GridSearchCV(CoringDetector(), param_grid=param_grid, verbose=1, n_jobs=5)\n",
    "clf.fit(train_dataset, masks_centroids)"
   ]
  },
  {
   "cell_type": "code",
   "execution_count": null,
   "metadata": {},
   "outputs": [
    {
     "data": {
      "text/plain": [
       "0.7314711144840269"
      ]
     },
     "execution_count": 15,
     "metadata": {},
     "output_type": "execute_result"
    }
   ],
   "source": [
    "clf.best_score_"
   ]
  },
  {
   "cell_type": "code",
   "execution_count": null,
   "metadata": {},
   "outputs": [
    {
     "data": {
      "text/plain": [
       "{'N1': 11,\n",
       " 'N2': 9,\n",
       " 'N3': 5,\n",
       " 'canny_sigma': 3.5,\n",
       " 'max_area': 400,\n",
       " 'max_round_ratio': 1.0,\n",
       " 'min_area': 1.0,\n",
       " 'min_round_ratio': 0.1}"
      ]
     },
     "execution_count": 16,
     "metadata": {},
     "output_type": "execute_result"
    }
   ],
   "source": [
    "clf.best_params_"
   ]
  },
  {
   "cell_type": "markdown",
   "metadata": {},
   "source": []
  }
 ],
 "metadata": {
  "kernelspec": {
   "display_name": "image-log-project-quutdM0Z-py3.10",
   "language": "python",
   "name": "python3"
  },
  "language_info": {
   "codemirror_mode": {
    "name": "ipython",
    "version": 3
   },
   "file_extension": ".py",
   "mimetype": "text/x-python",
   "name": "python",
   "nbconvert_exporter": "python",
   "pygments_lexer": "ipython3",
   "version": "3.10.0"
  }
 },
 "nbformat": 4,
 "nbformat_minor": 2
}
